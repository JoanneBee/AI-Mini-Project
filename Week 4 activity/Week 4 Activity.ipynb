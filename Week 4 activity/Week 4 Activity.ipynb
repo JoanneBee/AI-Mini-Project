{
 "cells": [
  {
   "cell_type": "markdown",
   "id": "06834940",
   "metadata": {},
   "source": [
    "# Week 4 Activity 1"
   ]
  },
  {
   "cell_type": "code",
   "execution_count": 16,
   "id": "ae410e7b",
   "metadata": {},
   "outputs": [
    {
     "name": "stdout",
     "output_type": "stream",
     "text": [
      "Requirement already satisfied: opencv-contrib-python in c:\\users\\asus\\appdata\\local\\programs\\python\\python310\\lib\\site-packages (4.6.0.66)\n",
      "Requirement already satisfied: numpy>=1.21.2 in c:\\users\\asus\\appdata\\local\\programs\\python\\python310\\lib\\site-packages (from opencv-contrib-python) (1.23.1)\n"
     ]
    },
    {
     "name": "stderr",
     "output_type": "stream",
     "text": [
      "WARNING: You are using pip version 22.0.4; however, version 22.1.2 is available.\n",
      "You should consider upgrading via the 'C:\\Users\\ASUS\\AppData\\Local\\Programs\\Python\\Python310\\python.exe -m pip install --upgrade pip' command.\n"
     ]
    }
   ],
   "source": [
    "!pip install opencv-contrib-python"
   ]
  },
  {
   "cell_type": "code",
   "execution_count": 17,
   "id": "626a11bc",
   "metadata": {},
   "outputs": [
    {
     "data": {
      "text/plain": [
       "True"
      ]
     },
     "execution_count": 17,
     "metadata": {},
     "output_type": "execute_result"
    }
   ],
   "source": [
    "from IPython.core.interactiveshell import InteractiveShell\n",
    "InteractiveShell.ast_node_interactivity = 'all'\n",
    "\n",
    "# Setup\n",
    "import sys\n",
    "# Python 3.7 is required\n",
    "assert sys.version_info >= (3,7)\n",
    "\n",
    "import cv2 as cv\n",
    "import numpy as np\n",
    "\n",
    "# For reproducibility,\n",
    "np.random.seed(99)\n",
    "\n",
    "# Make sure that optimization is enabled\n",
    "if not cv.useOptimized():\n",
    "    cv.setUseOptimized(True)\n",
    "\n",
    "cv.useOptimized()"
   ]
  },
  {
   "cell_type": "markdown",
   "id": "4475a36f",
   "metadata": {},
   "source": [
    "### 1th way"
   ]
  },
  {
   "cell_type": "code",
   "execution_count": 18,
   "id": "8134d49f",
   "metadata": {},
   "outputs": [],
   "source": [
    "unicorn=cv.imread(\"unicorn.jpg\")\n",
    "unicorn_gray=cv.imread(\"unicorn.jpg\",0)"
   ]
  },
  {
   "cell_type": "code",
   "execution_count": 19,
   "id": "eb617729",
   "metadata": {},
   "outputs": [
    {
     "data": {
      "text/plain": [
       "-1"
      ]
     },
     "execution_count": 19,
     "metadata": {},
     "output_type": "execute_result"
    }
   ],
   "source": [
    "cv.imshow(\"unicorn\",unicorn)\n",
    "cv.imshow(\"unicorn gray\",unicorn_gray)\n",
    "\n",
    "cv.waitKey(0)\n",
    "cv.destroyAllWindows()"
   ]
  },
  {
   "cell_type": "markdown",
   "id": "c535c353",
   "metadata": {},
   "source": [
    "### 2nd way"
   ]
  },
  {
   "cell_type": "code",
   "execution_count": 20,
   "id": "fb3b713a",
   "metadata": {
    "scrolled": true,
    "tags": [
     "raises-exception"
    ]
   },
   "outputs": [
    {
     "data": {
      "text/plain": [
       "-1"
      ]
     },
     "execution_count": 20,
     "metadata": {},
     "output_type": "execute_result"
    }
   ],
   "source": [
    "unicorn_gray = np.stack((unicorn_gray,)*3, axis=-1)\n",
    "unicorn_combine = np.concatenate((unicorn, unicorn_gray), axis = 1)\n",
    "cv.imshow('combined',unicorn_combine)\n",
    "cv.waitKey(0)\n",
    "cv.destroyAllWindows()"
   ]
  },
  {
   "cell_type": "markdown",
   "id": "cfb22e29",
   "metadata": {},
   "source": [
    "# Activity 2"
   ]
  },
  {
   "cell_type": "code",
   "execution_count": 24,
   "id": "bdc49788",
   "metadata": {},
   "outputs": [],
   "source": [
    "vc = cv.VideoCapture('img_pexels.mp4')\n",
    "fourcc = cv.VideoWriter_fourcc(*'XVID')\n",
    "\n",
    "# Smaller frame rate\n",
    "fps = 10\n",
    "\n",
    "width = int(vc.get(3))\n",
    "height = int(vc.get(4))\n",
    "\n",
    "# Smaller frame\n",
    "new_width = int(width/5)\n",
    "new_height = int(height/5)\n",
    "\n",
    "out = cv.VideoWriter('smaller_img_pexels.avi', fourcc, fps, (new_width, new_height))\n",
    "\n",
    "while vc.isOpened():\n",
    "    ret, frame = vc.read()\n",
    "    if not ret:\n",
    "        print(\"Can't receive frame (streaming end)\")\n",
    "        break\n",
    "    \n",
    "    frame = cv.resize(frame, (new_width, new_height), interpolation = cv.INTER_LINEAR)\n",
    "    \n",
    "    # write the flipped frame\n",
    "    out.write(frame)\n",
    "    \n",
    "    cv.imshow('frame', frame)\n",
    "    if cv.waitKey(1) & 0xFF == 27:\n",
    "        break\n",
    "        \n",
    "vc.release()\n",
    "out.release()\n",
    "cv.destroyAllWindows()"
   ]
  },
  {
   "cell_type": "markdown",
   "id": "a39f6ea1",
   "metadata": {},
   "source": [
    "# Activity 3"
   ]
  },
  {
   "cell_type": "code",
   "execution_count": 38,
   "id": "d65a2a21",
   "metadata": {},
   "outputs": [
    {
     "data": {
      "text/plain": [
       "-1"
      ]
     },
     "execution_count": 38,
     "metadata": {},
     "output_type": "execute_result"
    }
   ],
   "source": [
    "# Generate noise colour image\n",
    "noise_colour = np.random.randint(0, 234, (345,345,3), dtype = np.uint8)\n",
    "\n",
    "# Generate noice grayscale image\n",
    "noise_gray = np.random.randint(0, 234, (345,345), dtype = np.uint8)\n",
    "noise_gray = np.stack((noise_gray,)*3, axis=-1)\n",
    "\n",
    "# Combine both pictures\n",
    "noise_combine = np.concatenate((noise_colour, noise_gray), axis = 1)\n",
    "\n",
    "# Show combined image\n",
    "cv.imshow('combined',noise_combine)\n",
    "cv.waitKey(0)\n",
    "cv.destroyAllWindows()"
   ]
  },
  {
   "cell_type": "code",
   "execution_count": null,
   "id": "f16916ae",
   "metadata": {},
   "outputs": [],
   "source": []
  }
 ],
 "metadata": {
  "celltoolbar": "Tags",
  "kernelspec": {
   "display_name": "Python 3 (ipykernel)",
   "language": "python",
   "name": "python3"
  },
  "language_info": {
   "codemirror_mode": {
    "name": "ipython",
    "version": 3
   },
   "file_extension": ".py",
   "mimetype": "text/x-python",
   "name": "python",
   "nbconvert_exporter": "python",
   "pygments_lexer": "ipython3",
   "version": "3.10.5"
  }
 },
 "nbformat": 4,
 "nbformat_minor": 5
}
